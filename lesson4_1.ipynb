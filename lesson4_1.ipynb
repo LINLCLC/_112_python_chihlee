#學生總分為300
scores = int(input("請輸入學生分數:"))
if scores <= 300:
    is_add = input("學生是否符合加分條件?(y,n)")
    if is_add == "y":
        scores *=1.05
    if  scores > 300:
        scores = 300
    print(f"學生分數是:{scores}")
else:
    print("輸入錯誤")